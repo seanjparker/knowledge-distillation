{
 "cells": [
  {
   "cell_type": "code",
   "execution_count": 14,
   "metadata": {
    "id": "F9fmTL2pl6B_"
   },
   "outputs": [],
   "source": [
    "import torch\n",
    "from torch.utils.data import Subset\n",
    "import numpy as np\n",
    "import pickle\n",
    "from datetime import datetime\n",
    "from sklearn.model_selection import train_test_split\n",
    "from utils import load_mnist, load_cifar, calc_accuracy\n",
    "from model import create_assistant\n",
    "from run import train_using_assistant_1_step"
   ]
  },
  {
   "cell_type": "code",
   "execution_count": 8,
   "metadata": {
    "colab": {
     "base_uri": "https://localhost:8080/"
    },
    "id": "ufg-TGlPmORk",
    "outputId": "e417e27d-107d-498e-fa29-2c7188c49a9c"
   },
   "outputs": [
    {
     "name": "stdout",
     "output_type": "stream",
     "text": [
      "Using device: Tesla T4, type cuda\n"
     ]
    }
   ],
   "source": [
    "torch_device = torch.device('cuda' if torch.cuda.is_available() else 'cpu')\n",
    "device_name = torch.cuda.get_device_name() if torch_device.type == 'cuda' else 'cpu'\n",
    "print(f'Using device: {device_name}, type {torch_device}')"
   ]
  },
  {
   "cell_type": "code",
   "execution_count": 9,
   "metadata": {
    "colab": {
     "base_uri": "https://localhost:8080/"
    },
    "id": "LplFqMt0moSa",
    "outputId": "acf9f2ac-0192-4a86-f4f2-554fd44ff534"
   },
   "outputs": [
    {
     "name": "stdout",
     "output_type": "stream",
     "text": [
      "Files already downloaded and verified\n",
      "Files already downloaded and verified\n",
      "Training Student Model\n",
      "epoch: 1, loss: 6.27e-04, train acc: 0.407, time: 24.63s\n",
      "epoch: 2, loss: 5.06e-04, train acc: 0.537, time: 24.63s\n",
      "epoch: 3, loss: 4.66e-04, train acc: 0.580, time: 24.59s\n",
      "epoch: 4, loss: 4.39e-04, train acc: 0.606, time: 24.79s\n",
      "epoch: 5, loss: 4.23e-04, train acc: 0.621, time: 24.78s\n",
      "epoch: 6, loss: 4.05e-04, train acc: 0.637, time: 24.56s\n",
      "epoch: 7, loss: 3.92e-04, train acc: 0.650, time: 24.68s\n",
      "epoch: 8, loss: 3.81e-04, train acc: 0.661, time: 24.52s\n",
      "epoch: 9, loss: 3.70e-04, train acc: 0.670, time: 24.68s\n",
      "epoch: 10, loss: 3.64e-04, train acc: 0.673, time: 24.63s\n",
      "epoch: 11, loss: 3.42e-04, train acc: 0.698, time: 24.51s\n",
      "epoch: 12, loss: 3.36e-04, train acc: 0.699, time: 24.53s\n",
      "epoch: 13, loss: 3.33e-04, train acc: 0.705, time: 24.37s\n",
      "epoch: 14, loss: 3.28e-04, train acc: 0.708, time: 24.53s\n",
      "epoch: 15, loss: 3.26e-04, train acc: 0.712, time: 24.84s\n",
      "epoch: 16, loss: 3.24e-04, train acc: 0.712, time: 24.60s\n",
      "epoch: 17, loss: 3.22e-04, train acc: 0.716, time: 24.18s\n",
      "epoch: 18, loss: 3.15e-04, train acc: 0.720, time: 24.03s\n",
      "epoch: 19, loss: 3.14e-04, train acc: 0.723, time: 23.71s\n",
      "epoch: 20, loss: 3.11e-04, train acc: 0.727, time: 23.60s\n",
      "epoch: 21, loss: 3.07e-04, train acc: 0.729, time: 23.68s\n",
      "epoch: 22, loss: 3.08e-04, train acc: 0.728, time: 23.67s\n",
      "epoch: 23, loss: 3.04e-04, train acc: 0.731, time: 23.53s\n",
      "epoch: 24, loss: 3.02e-04, train acc: 0.736, time: 23.46s\n",
      "epoch: 25, loss: 3.01e-04, train acc: 0.736, time: 23.65s\n",
      "epoch: 26, loss: 2.89e-04, train acc: 0.745, time: 23.42s\n",
      "epoch: 27, loss: 2.89e-04, train acc: 0.746, time: 23.49s\n",
      "epoch: 28, loss: 2.87e-04, train acc: 0.748, time: 23.67s\n",
      "epoch: 29, loss: 2.86e-04, train acc: 0.748, time: 23.75s\n",
      "epoch: 30, loss: 2.84e-04, train acc: 0.749, time: 23.60s\n",
      "epoch: 31, loss: 2.83e-04, train acc: 0.751, time: 23.33s\n",
      "epoch: 32, loss: 2.83e-04, train acc: 0.751, time: 23.55s\n",
      "epoch: 33, loss: 2.78e-04, train acc: 0.751, time: 23.36s\n",
      "epoch: 34, loss: 2.81e-04, train acc: 0.752, time: 23.09s\n",
      "epoch: 35, loss: 2.78e-04, train acc: 0.754, time: 23.37s\n",
      "epoch: 36, loss: 2.78e-04, train acc: 0.757, time: 23.34s\n",
      "epoch: 37, loss: 2.77e-04, train acc: 0.754, time: 23.13s\n",
      "epoch: 38, loss: 2.75e-04, train acc: 0.758, time: 23.19s\n",
      "epoch: 39, loss: 2.74e-04, train acc: 0.758, time: 23.18s\n",
      "epoch: 40, loss: 2.75e-04, train acc: 0.757, time: 23.02s\n",
      "epoch: 41, loss: 2.69e-04, train acc: 0.761, time: 22.97s\n",
      "epoch: 42, loss: 2.67e-04, train acc: 0.764, time: 23.11s\n",
      "epoch: 43, loss: 2.66e-04, train acc: 0.767, time: 23.34s\n",
      "epoch: 44, loss: 2.67e-04, train acc: 0.764, time: 22.73s\n",
      "epoch: 45, loss: 2.66e-04, train acc: 0.767, time: 22.84s\n",
      "epoch: 46, loss: 2.66e-04, train acc: 0.765, time: 23.09s\n",
      "epoch: 47, loss: 2.66e-04, train acc: 0.767, time: 23.01s\n",
      "epoch: 48, loss: 2.62e-04, train acc: 0.766, time: 22.83s\n",
      "epoch: 49, loss: 2.65e-04, train acc: 0.766, time: 22.95s\n",
      "epoch: 50, loss: 2.63e-04, train acc: 0.766, time: 22.71s\n",
      "epoch: 51, loss: 2.64e-04, train acc: 0.768, time: 22.84s\n",
      "epoch: 52, loss: 2.62e-04, train acc: 0.770, time: 22.58s\n",
      "epoch: 53, loss: 2.61e-04, train acc: 0.770, time: 22.95s\n",
      "epoch: 54, loss: 2.63e-04, train acc: 0.769, time: 23.02s\n",
      "epoch: 55, loss: 2.61e-04, train acc: 0.770, time: 22.84s\n",
      "epoch: 56, loss: 2.58e-04, train acc: 0.769, time: 22.97s\n",
      "epoch: 57, loss: 2.61e-04, train acc: 0.769, time: 22.79s\n",
      "epoch: 58, loss: 2.60e-04, train acc: 0.771, time: 22.57s\n",
      "epoch: 59, loss: 2.59e-04, train acc: 0.771, time: 22.62s\n",
      "epoch: 60, loss: 2.60e-04, train acc: 0.771, time: 22.93s\n",
      "epoch: 61, loss: 2.58e-04, train acc: 0.772, time: 22.74s\n",
      "epoch: 62, loss: 2.58e-04, train acc: 0.770, time: 22.81s\n",
      "epoch: 63, loss: 2.59e-04, train acc: 0.770, time: 22.61s\n",
      "epoch: 64, loss: 2.58e-04, train acc: 0.772, time: 22.78s\n",
      "epoch: 65, loss: 2.58e-04, train acc: 0.773, time: 22.70s\n",
      "epoch: 66, loss: 2.56e-04, train acc: 0.775, time: 22.55s\n",
      "epoch: 67, loss: 2.56e-04, train acc: 0.774, time: 22.84s\n",
      "epoch: 68, loss: 2.55e-04, train acc: 0.774, time: 22.71s\n",
      "epoch: 69, loss: 2.57e-04, train acc: 0.771, time: 22.82s\n",
      "epoch: 70, loss: 2.55e-04, train acc: 0.774, time: 23.03s\n",
      "epoch: 71, loss: 2.55e-04, train acc: 0.773, time: 22.81s\n",
      "epoch: 72, loss: 2.53e-04, train acc: 0.777, time: 22.84s\n",
      "epoch: 73, loss: 2.55e-04, train acc: 0.775, time: 22.81s\n",
      "epoch: 74, loss: 2.55e-04, train acc: 0.775, time: 22.72s\n",
      "epoch: 75, loss: 2.51e-04, train acc: 0.781, time: 22.76s\n",
      "epoch: 76, loss: 2.53e-04, train acc: 0.775, time: 22.74s\n",
      "epoch: 77, loss: 2.53e-04, train acc: 0.778, time: 22.77s\n",
      "epoch: 78, loss: 2.50e-04, train acc: 0.780, time: 22.95s\n",
      "epoch: 79, loss: 2.51e-04, train acc: 0.779, time: 22.72s\n",
      "epoch: 80, loss: 2.50e-04, train acc: 0.780, time: 22.93s\n",
      "epoch: 81, loss: 2.52e-04, train acc: 0.776, time: 23.06s\n",
      "epoch: 82, loss: 2.50e-04, train acc: 0.780, time: 22.97s\n",
      "epoch: 83, loss: 2.51e-04, train acc: 0.779, time: 23.06s\n",
      "epoch: 84, loss: 2.51e-04, train acc: 0.778, time: 23.16s\n",
      "epoch: 85, loss: 2.52e-04, train acc: 0.776, time: 23.00s\n",
      "epoch: 86, loss: 2.50e-04, train acc: 0.779, time: 22.86s\n",
      "epoch: 87, loss: 2.51e-04, train acc: 0.780, time: 22.57s\n",
      "epoch: 88, loss: 2.49e-04, train acc: 0.781, time: 22.86s\n",
      "epoch: 89, loss: 2.49e-04, train acc: 0.782, time: 22.52s\n",
      "epoch: 90, loss: 2.49e-04, train acc: 0.779, time: 22.76s\n",
      "epoch: 91, loss: 2.47e-04, train acc: 0.781, time: 22.62s\n",
      "epoch: 92, loss: 2.50e-04, train acc: 0.779, time: 22.90s\n",
      "epoch: 93, loss: 2.48e-04, train acc: 0.781, time: 22.56s\n",
      "epoch: 94, loss: 2.49e-04, train acc: 0.781, time: 22.54s\n",
      "epoch: 95, loss: 2.47e-04, train acc: 0.782, time: 22.62s\n",
      "epoch: 96, loss: 2.48e-04, train acc: 0.781, time: 22.42s\n",
      "epoch: 97, loss: 2.47e-04, train acc: 0.784, time: 22.63s\n",
      "epoch: 98, loss: 2.46e-04, train acc: 0.783, time: 22.45s\n",
      "epoch: 99, loss: 2.47e-04, train acc: 0.785, time: 22.78s\n",
      "epoch: 100, loss: 2.45e-04, train acc: 0.782, time: 22.34s\n",
      "test accuracy: 78.910%\n"
     ]
    }
   ],
   "source": [
    "# Train the student models using the teacher-assistant method\n",
    "assistant_model, student_model = train_using_assistant_1_step('cifar', torch_device, epochs=100, assistant_path='./models/16:15:24_assistant_cifar.pt')"
   ]
  },
  {
   "cell_type": "code",
   "execution_count": 10,
   "metadata": {
    "colab": {
     "base_uri": "https://localhost:8080/"
    },
    "id": "nnQW_txj-xwF",
    "outputId": "bff09c94-7687-4981-8a1a-7d4dbbe70f60"
   },
   "outputs": [
    {
     "name": "stdout",
     "output_type": "stream",
     "text": [
      "Files already downloaded and verified\n",
      "Files already downloaded and verified\n",
      "test accuracy: 79.180%\n"
     ]
    }
   ],
   "source": [
    "_, test_dataset = load_cifar()\n",
    "calc_accuracy(test_dataset, student_model, torch_device)"
   ]
  },
  {
   "cell_type": "code",
   "execution_count": null,
   "metadata": {
    "colab": {
     "base_uri": "https://localhost:8080/",
     "height": 455,
     "referenced_widgets": [
      "6729492b5f6743dc9c85805d5bdf5757",
      "1d57e424a3894ad7b0d3f941c1230ccc",
      "24b35899808349eeaf4fe103009c7444",
      "3d9268b2f775474d8818347237a48064",
      "df27ede1aa9242d4b964d0127f34661b",
      "6a108f04d66c4d71987975fbc1cc7b48",
      "b7a2b2d5da52499498355edbd731ef8f",
      "6ea7bc990fb143119f63b40257de6da2"
     ]
    },
    "id": "q947D-LBt1nG",
    "outputId": "2b18b238-c941-4f2d-eb66-a1f1b6b27afc"
   },
   "outputs": [
    {
     "name": "stdout",
     "output_type": "stream",
     "text": [
      "Downloading https://www.cs.toronto.edu/~kriz/cifar-10-python.tar.gz to ./datasets/cifar-10-python.tar.gz\n"
     ]
    },
    {
     "data": {
      "application/vnd.jupyter.widget-view+json": {
       "model_id": "6729492b5f6743dc9c85805d5bdf5757",
       "version_major": 2,
       "version_minor": 0
      },
      "text/plain": [
       "HBox(children=(FloatProgress(value=1.0, bar_style='info', max=1.0), HTML(value='')))"
      ]
     },
     "metadata": {
      "tags": []
     },
     "output_type": "display_data"
    },
    {
     "name": "stdout",
     "output_type": "stream",
     "text": [
      "Extracting ./datasets/cifar-10-python.tar.gz to ./datasets\n",
      "Files already downloaded and verified\n"
     ]
    },
    {
     "ename": "FileNotFoundError",
     "evalue": "ignored",
     "output_type": "error",
     "traceback": [
      "\u001b[0;31m---------------------------------------------------------------------------\u001b[0m",
      "\u001b[0;31mFileNotFoundError\u001b[0m                         Traceback (most recent call last)",
      "\u001b[0;32m<ipython-input-3-333b566ae01e>\u001b[0m in \u001b[0;36m<module>\u001b[0;34m()\u001b[0m\n\u001b[1;32m      1\u001b[0m \u001b[0m_\u001b[0m\u001b[0;34m,\u001b[0m \u001b[0mtest_dataset\u001b[0m \u001b[0;34m=\u001b[0m \u001b[0mload_cifar\u001b[0m\u001b[0;34m(\u001b[0m\u001b[0;34m)\u001b[0m\u001b[0;34m\u001b[0m\u001b[0;34m\u001b[0m\u001b[0m\n\u001b[1;32m      2\u001b[0m \u001b[0massistant\u001b[0m \u001b[0;34m=\u001b[0m \u001b[0mcreate_assistant\u001b[0m\u001b[0;34m(\u001b[0m\u001b[0mtorch_device\u001b[0m\u001b[0;34m,\u001b[0m \u001b[0;36m10\u001b[0m\u001b[0;34m)\u001b[0m\u001b[0;34m\u001b[0m\u001b[0;34m\u001b[0m\u001b[0m\n\u001b[0;32m----> 3\u001b[0;31m \u001b[0massistant\u001b[0m\u001b[0;34m.\u001b[0m\u001b[0mload_state_dict\u001b[0m\u001b[0;34m(\u001b[0m\u001b[0mtorch\u001b[0m\u001b[0;34m.\u001b[0m\u001b[0mload\u001b[0m\u001b[0;34m(\u001b[0m\u001b[0;34m'models/01:56:51_assistant_cifar.pt'\u001b[0m\u001b[0;34m,\u001b[0m \u001b[0mmap_location\u001b[0m\u001b[0;34m=\u001b[0m\u001b[0mtorch_device\u001b[0m\u001b[0;34m)\u001b[0m\u001b[0;34m)\u001b[0m\u001b[0;34m\u001b[0m\u001b[0;34m\u001b[0m\u001b[0m\n\u001b[0m\u001b[1;32m      4\u001b[0m \u001b[0mcalc_accuracy\u001b[0m\u001b[0;34m(\u001b[0m\u001b[0mtest_dataset\u001b[0m\u001b[0;34m,\u001b[0m \u001b[0massistant\u001b[0m\u001b[0;34m,\u001b[0m \u001b[0mtorch_device\u001b[0m\u001b[0;34m)\u001b[0m\u001b[0;34m\u001b[0m\u001b[0;34m\u001b[0m\u001b[0m\n",
      "\u001b[0;32m/usr/local/lib/python3.6/dist-packages/torch/serialization.py\u001b[0m in \u001b[0;36mload\u001b[0;34m(f, map_location, pickle_module, **pickle_load_args)\u001b[0m\n\u001b[1;32m    579\u001b[0m         \u001b[0mpickle_load_args\u001b[0m\u001b[0;34m[\u001b[0m\u001b[0;34m'encoding'\u001b[0m\u001b[0;34m]\u001b[0m \u001b[0;34m=\u001b[0m \u001b[0;34m'utf-8'\u001b[0m\u001b[0;34m\u001b[0m\u001b[0;34m\u001b[0m\u001b[0m\n\u001b[1;32m    580\u001b[0m \u001b[0;34m\u001b[0m\u001b[0m\n\u001b[0;32m--> 581\u001b[0;31m     \u001b[0;32mwith\u001b[0m \u001b[0m_open_file_like\u001b[0m\u001b[0;34m(\u001b[0m\u001b[0mf\u001b[0m\u001b[0;34m,\u001b[0m \u001b[0;34m'rb'\u001b[0m\u001b[0;34m)\u001b[0m \u001b[0;32mas\u001b[0m \u001b[0mopened_file\u001b[0m\u001b[0;34m:\u001b[0m\u001b[0;34m\u001b[0m\u001b[0;34m\u001b[0m\u001b[0m\n\u001b[0m\u001b[1;32m    582\u001b[0m         \u001b[0;32mif\u001b[0m \u001b[0m_is_zipfile\u001b[0m\u001b[0;34m(\u001b[0m\u001b[0mopened_file\u001b[0m\u001b[0;34m)\u001b[0m\u001b[0;34m:\u001b[0m\u001b[0;34m\u001b[0m\u001b[0;34m\u001b[0m\u001b[0m\n\u001b[1;32m    583\u001b[0m             \u001b[0;31m# The zipfile reader is going to advance the current file position.\u001b[0m\u001b[0;34m\u001b[0m\u001b[0;34m\u001b[0m\u001b[0;34m\u001b[0m\u001b[0m\n",
      "\u001b[0;32m/usr/local/lib/python3.6/dist-packages/torch/serialization.py\u001b[0m in \u001b[0;36m_open_file_like\u001b[0;34m(name_or_buffer, mode)\u001b[0m\n\u001b[1;32m    228\u001b[0m \u001b[0;32mdef\u001b[0m \u001b[0m_open_file_like\u001b[0m\u001b[0;34m(\u001b[0m\u001b[0mname_or_buffer\u001b[0m\u001b[0;34m,\u001b[0m \u001b[0mmode\u001b[0m\u001b[0;34m)\u001b[0m\u001b[0;34m:\u001b[0m\u001b[0;34m\u001b[0m\u001b[0;34m\u001b[0m\u001b[0m\n\u001b[1;32m    229\u001b[0m     \u001b[0;32mif\u001b[0m \u001b[0m_is_path\u001b[0m\u001b[0;34m(\u001b[0m\u001b[0mname_or_buffer\u001b[0m\u001b[0;34m)\u001b[0m\u001b[0;34m:\u001b[0m\u001b[0;34m\u001b[0m\u001b[0;34m\u001b[0m\u001b[0m\n\u001b[0;32m--> 230\u001b[0;31m         \u001b[0;32mreturn\u001b[0m \u001b[0m_open_file\u001b[0m\u001b[0;34m(\u001b[0m\u001b[0mname_or_buffer\u001b[0m\u001b[0;34m,\u001b[0m \u001b[0mmode\u001b[0m\u001b[0;34m)\u001b[0m\u001b[0;34m\u001b[0m\u001b[0;34m\u001b[0m\u001b[0m\n\u001b[0m\u001b[1;32m    231\u001b[0m     \u001b[0;32melse\u001b[0m\u001b[0;34m:\u001b[0m\u001b[0;34m\u001b[0m\u001b[0;34m\u001b[0m\u001b[0m\n\u001b[1;32m    232\u001b[0m         \u001b[0;32mif\u001b[0m \u001b[0;34m'w'\u001b[0m \u001b[0;32min\u001b[0m \u001b[0mmode\u001b[0m\u001b[0;34m:\u001b[0m\u001b[0;34m\u001b[0m\u001b[0;34m\u001b[0m\u001b[0m\n",
      "\u001b[0;32m/usr/local/lib/python3.6/dist-packages/torch/serialization.py\u001b[0m in \u001b[0;36m__init__\u001b[0;34m(self, name, mode)\u001b[0m\n\u001b[1;32m    209\u001b[0m \u001b[0;32mclass\u001b[0m \u001b[0m_open_file\u001b[0m\u001b[0;34m(\u001b[0m\u001b[0m_opener\u001b[0m\u001b[0;34m)\u001b[0m\u001b[0;34m:\u001b[0m\u001b[0;34m\u001b[0m\u001b[0;34m\u001b[0m\u001b[0m\n\u001b[1;32m    210\u001b[0m     \u001b[0;32mdef\u001b[0m \u001b[0m__init__\u001b[0m\u001b[0;34m(\u001b[0m\u001b[0mself\u001b[0m\u001b[0;34m,\u001b[0m \u001b[0mname\u001b[0m\u001b[0;34m,\u001b[0m \u001b[0mmode\u001b[0m\u001b[0;34m)\u001b[0m\u001b[0;34m:\u001b[0m\u001b[0;34m\u001b[0m\u001b[0;34m\u001b[0m\u001b[0m\n\u001b[0;32m--> 211\u001b[0;31m         \u001b[0msuper\u001b[0m\u001b[0;34m(\u001b[0m\u001b[0m_open_file\u001b[0m\u001b[0;34m,\u001b[0m \u001b[0mself\u001b[0m\u001b[0;34m)\u001b[0m\u001b[0;34m.\u001b[0m\u001b[0m__init__\u001b[0m\u001b[0;34m(\u001b[0m\u001b[0mopen\u001b[0m\u001b[0;34m(\u001b[0m\u001b[0mname\u001b[0m\u001b[0;34m,\u001b[0m \u001b[0mmode\u001b[0m\u001b[0;34m)\u001b[0m\u001b[0;34m)\u001b[0m\u001b[0;34m\u001b[0m\u001b[0;34m\u001b[0m\u001b[0m\n\u001b[0m\u001b[1;32m    212\u001b[0m \u001b[0;34m\u001b[0m\u001b[0m\n\u001b[1;32m    213\u001b[0m     \u001b[0;32mdef\u001b[0m \u001b[0m__exit__\u001b[0m\u001b[0;34m(\u001b[0m\u001b[0mself\u001b[0m\u001b[0;34m,\u001b[0m \u001b[0;34m*\u001b[0m\u001b[0margs\u001b[0m\u001b[0;34m)\u001b[0m\u001b[0;34m:\u001b[0m\u001b[0;34m\u001b[0m\u001b[0;34m\u001b[0m\u001b[0m\n",
      "\u001b[0;31mFileNotFoundError\u001b[0m: [Errno 2] No such file or directory: 'models/01:56:51_assistant_cifar.pt'"
     ]
    }
   ],
   "source": [
    "_, test_dataset = load_cifar()\n",
    "assistant = create_assistant(torch_device, 10)\n",
    "assistant.load_state_dict(torch.load('models/01:56:51_assistant_cifar.pt', map_location=torch_device))\n",
    "calc_accuracy(test_dataset, assistant, torch_device)"
   ]
  },
  {
   "cell_type": "code",
   "execution_count": null,
   "metadata": {
    "id": "hwKZvbD6x4qu"
   },
   "outputs": [],
   "source": []
  }
 ],
 "metadata": {
  "accelerator": "GPU",
  "colab": {
   "collapsed_sections": [],
   "name": "Untitled0.ipynb",
   "provenance": []
  },
  "kernelspec": {
   "display_name": "Python 3",
   "language": "python",
   "name": "python3"
  },
  "language_info": {
   "codemirror_mode": {
    "name": "ipython",
    "version": 3
   },
   "file_extension": ".py",
   "mimetype": "text/x-python",
   "name": "python",
   "nbconvert_exporter": "python",
   "pygments_lexer": "ipython3",
   "version": "3.9.0"
  },
  "widgets": {
   "application/vnd.jupyter.widget-state+json": {
    "1d57e424a3894ad7b0d3f941c1230ccc": {
     "model_module": "@jupyter-widgets/base",
     "model_name": "LayoutModel",
     "state": {
      "_model_module": "@jupyter-widgets/base",
      "_model_module_version": "1.2.0",
      "_model_name": "LayoutModel",
      "_view_count": null,
      "_view_module": "@jupyter-widgets/base",
      "_view_module_version": "1.2.0",
      "_view_name": "LayoutView",
      "align_content": null,
      "align_items": null,
      "align_self": null,
      "border": null,
      "bottom": null,
      "display": null,
      "flex": null,
      "flex_flow": null,
      "grid_area": null,
      "grid_auto_columns": null,
      "grid_auto_flow": null,
      "grid_auto_rows": null,
      "grid_column": null,
      "grid_gap": null,
      "grid_row": null,
      "grid_template_areas": null,
      "grid_template_columns": null,
      "grid_template_rows": null,
      "height": null,
      "justify_content": null,
      "justify_items": null,
      "left": null,
      "margin": null,
      "max_height": null,
      "max_width": null,
      "min_height": null,
      "min_width": null,
      "object_fit": null,
      "object_position": null,
      "order": null,
      "overflow": null,
      "overflow_x": null,
      "overflow_y": null,
      "padding": null,
      "right": null,
      "top": null,
      "visibility": null,
      "width": null
     }
    },
    "24b35899808349eeaf4fe103009c7444": {
     "model_module": "@jupyter-widgets/controls",
     "model_name": "FloatProgressModel",
     "state": {
      "_dom_classes": [],
      "_model_module": "@jupyter-widgets/controls",
      "_model_module_version": "1.5.0",
      "_model_name": "FloatProgressModel",
      "_view_count": null,
      "_view_module": "@jupyter-widgets/controls",
      "_view_module_version": "1.5.0",
      "_view_name": "ProgressView",
      "bar_style": "success",
      "description": "",
      "description_tooltip": null,
      "layout": "IPY_MODEL_6a108f04d66c4d71987975fbc1cc7b48",
      "max": 1,
      "min": 0,
      "orientation": "horizontal",
      "style": "IPY_MODEL_df27ede1aa9242d4b964d0127f34661b",
      "value": 1
     }
    },
    "3d9268b2f775474d8818347237a48064": {
     "model_module": "@jupyter-widgets/controls",
     "model_name": "HTMLModel",
     "state": {
      "_dom_classes": [],
      "_model_module": "@jupyter-widgets/controls",
      "_model_module_version": "1.5.0",
      "_model_name": "HTMLModel",
      "_view_count": null,
      "_view_module": "@jupyter-widgets/controls",
      "_view_module_version": "1.5.0",
      "_view_name": "HTMLView",
      "description": "",
      "description_tooltip": null,
      "layout": "IPY_MODEL_6ea7bc990fb143119f63b40257de6da2",
      "placeholder": "​",
      "style": "IPY_MODEL_b7a2b2d5da52499498355edbd731ef8f",
      "value": " 170500096/? [13:16&lt;00:00, 214150.12it/s]"
     }
    },
    "6729492b5f6743dc9c85805d5bdf5757": {
     "model_module": "@jupyter-widgets/controls",
     "model_name": "HBoxModel",
     "state": {
      "_dom_classes": [],
      "_model_module": "@jupyter-widgets/controls",
      "_model_module_version": "1.5.0",
      "_model_name": "HBoxModel",
      "_view_count": null,
      "_view_module": "@jupyter-widgets/controls",
      "_view_module_version": "1.5.0",
      "_view_name": "HBoxView",
      "box_style": "",
      "children": [
       "IPY_MODEL_24b35899808349eeaf4fe103009c7444",
       "IPY_MODEL_3d9268b2f775474d8818347237a48064"
      ],
      "layout": "IPY_MODEL_1d57e424a3894ad7b0d3f941c1230ccc"
     }
    },
    "6a108f04d66c4d71987975fbc1cc7b48": {
     "model_module": "@jupyter-widgets/base",
     "model_name": "LayoutModel",
     "state": {
      "_model_module": "@jupyter-widgets/base",
      "_model_module_version": "1.2.0",
      "_model_name": "LayoutModel",
      "_view_count": null,
      "_view_module": "@jupyter-widgets/base",
      "_view_module_version": "1.2.0",
      "_view_name": "LayoutView",
      "align_content": null,
      "align_items": null,
      "align_self": null,
      "border": null,
      "bottom": null,
      "display": null,
      "flex": null,
      "flex_flow": null,
      "grid_area": null,
      "grid_auto_columns": null,
      "grid_auto_flow": null,
      "grid_auto_rows": null,
      "grid_column": null,
      "grid_gap": null,
      "grid_row": null,
      "grid_template_areas": null,
      "grid_template_columns": null,
      "grid_template_rows": null,
      "height": null,
      "justify_content": null,
      "justify_items": null,
      "left": null,
      "margin": null,
      "max_height": null,
      "max_width": null,
      "min_height": null,
      "min_width": null,
      "object_fit": null,
      "object_position": null,
      "order": null,
      "overflow": null,
      "overflow_x": null,
      "overflow_y": null,
      "padding": null,
      "right": null,
      "top": null,
      "visibility": null,
      "width": null
     }
    },
    "6ea7bc990fb143119f63b40257de6da2": {
     "model_module": "@jupyter-widgets/base",
     "model_name": "LayoutModel",
     "state": {
      "_model_module": "@jupyter-widgets/base",
      "_model_module_version": "1.2.0",
      "_model_name": "LayoutModel",
      "_view_count": null,
      "_view_module": "@jupyter-widgets/base",
      "_view_module_version": "1.2.0",
      "_view_name": "LayoutView",
      "align_content": null,
      "align_items": null,
      "align_self": null,
      "border": null,
      "bottom": null,
      "display": null,
      "flex": null,
      "flex_flow": null,
      "grid_area": null,
      "grid_auto_columns": null,
      "grid_auto_flow": null,
      "grid_auto_rows": null,
      "grid_column": null,
      "grid_gap": null,
      "grid_row": null,
      "grid_template_areas": null,
      "grid_template_columns": null,
      "grid_template_rows": null,
      "height": null,
      "justify_content": null,
      "justify_items": null,
      "left": null,
      "margin": null,
      "max_height": null,
      "max_width": null,
      "min_height": null,
      "min_width": null,
      "object_fit": null,
      "object_position": null,
      "order": null,
      "overflow": null,
      "overflow_x": null,
      "overflow_y": null,
      "padding": null,
      "right": null,
      "top": null,
      "visibility": null,
      "width": null
     }
    },
    "b7a2b2d5da52499498355edbd731ef8f": {
     "model_module": "@jupyter-widgets/controls",
     "model_name": "DescriptionStyleModel",
     "state": {
      "_model_module": "@jupyter-widgets/controls",
      "_model_module_version": "1.5.0",
      "_model_name": "DescriptionStyleModel",
      "_view_count": null,
      "_view_module": "@jupyter-widgets/base",
      "_view_module_version": "1.2.0",
      "_view_name": "StyleView",
      "description_width": ""
     }
    },
    "df27ede1aa9242d4b964d0127f34661b": {
     "model_module": "@jupyter-widgets/controls",
     "model_name": "ProgressStyleModel",
     "state": {
      "_model_module": "@jupyter-widgets/controls",
      "_model_module_version": "1.5.0",
      "_model_name": "ProgressStyleModel",
      "_view_count": null,
      "_view_module": "@jupyter-widgets/base",
      "_view_module_version": "1.2.0",
      "_view_name": "StyleView",
      "bar_color": null,
      "description_width": "initial"
     }
    }
   }
  }
 },
 "nbformat": 4,
 "nbformat_minor": 4
}
