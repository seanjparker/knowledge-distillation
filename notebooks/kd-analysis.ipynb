{
 "cells": [
  {
   "cell_type": "code",
   "execution_count": 49,
   "metadata": {},
   "outputs": [
    {
     "name": "stdout",
     "output_type": "stream",
     "text": [
      "Using device: cpu, type cpu\n"
     ]
    }
   ],
   "source": [
    "%config IPCompleter.greedy=True\n",
    "\n",
    "import torch\n",
    "import torch.nn as nn\n",
    "from torch.utils.data import DataLoader\n",
    "from torchvision import transforms, datasets\n",
    "import numpy as np\n",
    "import seaborn as sns\n",
    "import matplotlib.pylab as plt\n",
    "import pandas as pd\n",
    "import os\n",
    "\n",
    "torch_device = torch.device('cuda' if torch.cuda.is_available() else 'cpu')\n",
    "device_name = torch.cuda.get_device_name() if torch_device.type == 'cuda' else 'cpu'\n",
    "print(f'Using device: {device_name}, type {torch_device}')"
   ]
  },
  {
   "cell_type": "code",
   "execution_count": 46,
   "metadata": {},
   "outputs": [
    {
     "name": "stdout",
     "output_type": "stream",
     "text": [
      "Files already downloaded and verified\n",
      "Files already downloaded and verified\n"
     ]
    }
   ],
   "source": [
    "def load_cifar():\n",
    "    train_transforms = [\n",
    "        transforms.Pad(4, padding_mode='reflect'),\n",
    "        transforms.RandomCrop(32),\n",
    "        transforms.RandomHorizontalFlip(),\n",
    "        transforms.ToTensor(),\n",
    "        transforms.Normalize((0.4914, 0.4822, 0.4465), (0.2470, 0.2435, 0.2616))\n",
    "    ]\n",
    "\n",
    "    test_transforms = [\n",
    "        transforms.ToTensor(),\n",
    "        transforms.Normalize((0.4914, 0.4822, 0.4465), (0.2470, 0.2435, 0.2616))\n",
    "    ]\n",
    "\n",
    "    cifar_train = datasets.CIFAR10('./datasets', train=True, download=True,\n",
    "                                   transform=transforms.Compose(train_transforms))\n",
    "    cifar_test = datasets.CIFAR10('./datasets', train=False, download=True,\n",
    "                                  transform=transforms.Compose(test_transforms))\n",
    "\n",
    "    batch_size = 256\n",
    "    train_dataset = DataLoader(cifar_train, batch_size=batch_size, shuffle=True, num_workers=2)\n",
    "    test_dataset = DataLoader(cifar_test, batch_size=batch_size, shuffle=True, num_workers=2)\n",
    "\n",
    "    return train_dataset, test_dataset\n",
    "train, test = load_cifar()"
   ]
  },
  {
   "cell_type": "markdown",
   "metadata": {},
   "source": [
    "# Util Functions"
   ]
  },
  {
   "cell_type": "code",
   "execution_count": 47,
   "metadata": {},
   "outputs": [],
   "source": [
    "def create_student(device):\n",
    "    return nn.Sequential(\n",
    "        nn.Conv2d(3, 32, kernel_size=(3, 3)),\n",
    "        nn.BatchNorm2d(32),\n",
    "        nn.ReLU(),\n",
    "        nn.MaxPool2d(kernel_size=(2, 2)),\n",
    "        nn.Conv2d(32, 64, kernel_size=(3, 3)),\n",
    "        nn.BatchNorm2d(64),\n",
    "        nn.ReLU(),\n",
    "        nn.MaxPool2d(kernel_size=(2, 2)),\n",
    "        nn.Flatten(),\n",
    "        nn.Linear(2304, 128),\n",
    "        nn.ReLU(),\n",
    "        nn.Dropout(p=0.2),\n",
    "        nn.Linear(128, 64),\n",
    "        nn.ReLU(),\n",
    "        nn.Dropout(p=0.2),\n",
    "        nn.Linear(64, 10),\n",
    "        nn.Softmax(dim=1)\n",
    "    ).to(device)\n",
    "\n",
    "def calc_accuracy(model, device):\n",
    "    correct = 0\n",
    "    with torch.no_grad():\n",
    "        for i, (imgs, labels) in enumerate(test):\n",
    "            imgs, labels = imgs.to(device), labels.to(device)\n",
    "            preds = model(imgs)\n",
    "            pred_class = torch.argmax(preds, dim=1)\n",
    "            correct += torch.eq(pred_class, labels).sum()\n",
    "    return f'{(correct * 100) / len(test.dataset):.2f}%'\n",
    "\n",
    "def list_files(dir_name):\n",
    "    r = []\n",
    "    for root, dirs, files in os.walk(dir_name):\n",
    "        for name in files:\n",
    "            r.append(os.path.join(root, name))\n",
    "    return r\n",
    "\n",
    "def parse_file_name(name):\n",
    "    parts = name.split('_')\n",
    "    # Returns the temperature and alpha values from the filename\n",
    "    return parts[4][1:], parts[5][1:].replace('-', '.')[:-3]"
   ]
  },
  {
   "cell_type": "markdown",
   "metadata": {},
   "source": [
    "# Plot temperature vs alpha heatmap"
   ]
  },
  {
   "cell_type": "code",
   "execution_count": 58,
   "metadata": {},
   "outputs": [
    {
     "name": "stdout",
     "output_type": "stream",
     "text": [
      "temp: 20, alpha: 0.9, test_acc: 72.43%\n",
      "temp: 20, alpha: 0.5, test_acc: 75.58%\n",
      "temp: 20, alpha: 0.1, test_acc: 77.49%\n",
      "temp: 10, alpha: 0.9, test_acc: 72.67%\n",
      "temp: 10, alpha: 0.1, test_acc: 78.14%\n",
      "temp: 10, alpha: 0.5, test_acc: 76.57%\n",
      "temp: 5, alpha: 0.9, test_acc: 73.42%\n",
      "temp: 5, alpha: 0.1, test_acc: 77.99%\n",
      "temp: 5, alpha: 0.5, test_acc: 76.73%\n",
      "temp: 2, alpha: 0.1, test_acc: 77.28%\n",
      "temp: 2, alpha: 0.5, test_acc: 76.44%\n",
      "temp: 2, alpha: 0.9, test_acc: 74.93%\n",
      "temp: 15, alpha: 0.1, test_acc: 78.02%\n",
      "temp: 15, alpha: 0.5, test_acc: 76.13%\n",
      "temp: 15, alpha: 0.9, test_acc: 72.93%\n",
      "temp: 7, alpha: 0.9, test_acc: 74.27%\n",
      "temp: 7, alpha: 0.1, test_acc: 77.56%\n",
      "temp: 7, alpha: 0.5, test_acc: 76.27%\n"
     ]
    }
   ],
   "source": [
    "# Iterate over all files\n",
    "# Skip any .pickle\n",
    "# Load the model\n",
    "    # Parse the filename\n",
    "    # Store formatted data\n",
    "    \n",
    "student_model = create_student(torch_device)\n",
    "d = {'alpha': [], 'temperature': [], 'acc': []}\n",
    "all_files = list_files('../results/bst')\n",
    "for i, file_name in enumerate(all_files):\n",
    "    if file_name.endswith('pickle') or file_name.endswith('Store'):\n",
    "        continue\n",
    "    \n",
    "    student_model.load_state_dict(torch.load(file_name, map_location=torch_device))\n",
    "    student_model.eval()\n",
    "    test_acc = calc_accuracy(student_model, torch_device)\n",
    "    temperature, alpha = parse_file_name(file_name)\n",
    "    d['alpha'].append(float(alpha))\n",
    "    d['temperature'].append(int(temperature))\n",
    "    d['acc'].append(float(test_acc) / 100)\n",
    "    print(f'temp: {temperature}, alpha: {alpha}, test_acc: {test_acc}')"
   ]
  },
  {
   "cell_type": "code",
   "execution_count": 89,
   "metadata": {},
   "outputs": [
    {
     "data": {
      "image/png": "[encoded data removed]",
      "text/plain": [
       "<Figure size 432x288 with 2 Axes>"
      ]
     },
     "metadata": {},
     "output_type": "display_data"
    }
   ],
   "source": [
    "df = pd.DataFrame(data=d).sort_values('temperature')\n",
    "result = df.pivot(index='alpha', columns='temperature', values='acc')\n",
    "\n",
    "with sns.axes_style('white'):\n",
    "    ax = sns.heatmap(result, annot=True, fmt='.2%', cmap='YlGnBu')\n",
    "    ax.set(xlabel='Temperature', ylabel='Alpha (KD-loss weight)')\n",
    "    plt.show()\n",
    "    ax.get_figure().savefig('kd_temp_alpha.png', dpi=400)"
   ]
  },
  {
   "cell_type": "markdown",
   "metadata": {},
   "source": [
    "# Other plots"
   ]
  }
 ],
 "metadata": {
  "kernelspec": {
   "display_name": "Python 3",
   "language": "python",
   "name": "python3"
  },
  "language_info": {
   "codemirror_mode": {
    "name": "ipython",
    "version": 3
   },
   "file_extension": ".py",
   "mimetype": "text/x-python",
   "name": "python",
   "nbconvert_exporter": "python",
   "pygments_lexer": "ipython3",
   "version": "3.9.0"
  }
 },
 "nbformat": 4,
 "nbformat_minor": 4
}
